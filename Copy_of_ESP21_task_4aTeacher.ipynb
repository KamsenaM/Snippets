{
  "nbformat": 4,
  "nbformat_minor": 0,
  "metadata": {
    "colab": {
      "name": "Copy of ESP21_task_4aTeacher.ipynb",
      "provenance": [],
      "collapsed_sections": [],
      "include_colab_link": true
    },
    "kernelspec": {
      "name": "python3",
      "display_name": "Python 3"
    },
    "language_info": {
      "name": "python"
    }
  },
  "cells": [
    {
      "cell_type": "markdown",
      "metadata": {
        "id": "view-in-github",
        "colab_type": "text"
      },
      "source": [
        "<a href=\"https://colab.research.google.com/github/KamsenaM/Snippets/blob/main/Copy_of_ESP21_task_4aTeacher.ipynb\" target=\"_parent\"><img src=\"https://colab.research.google.com/assets/colab-badge.svg\" alt=\"Open In Colab\"/></a>"
      ]
    },
    {
      "cell_type": "markdown",
      "metadata": {
        "id": "CVft7QrzHSeY"
      },
      "source": [
        "# Pandas and matplotlib prompt sheet for ESP"
      ]
    },
    {
      "cell_type": "markdown",
      "metadata": {
        "id": "Yi9UFGiRHZWC"
      },
      "source": [
        "## Run this first"
      ]
    },
    {
      "cell_type": "code",
      "metadata": {
        "id": "w8GSDy9PHRS3",
        "colab": {
          "base_uri": "https://localhost:8080/"
        },
        "outputId": "acee789d-8a23-42a7-8356-14bd26d7849b"
      },
      "source": [
        "import pandas as pd\n",
        "import matplotlib.pyplot as plt\n",
        "import os.path\n",
        "if not os.path.isfile('sampledata/ESP/Shoes.csv') :\n",
        "  !rm -rf sampledata\n",
        "  !git clone https://github.com/awchisholm/sampledata.git"
      ],
      "execution_count": 1,
      "outputs": [
        {
          "output_type": "stream",
          "name": "stdout",
          "text": [
            "Cloning into 'sampledata'...\n",
            "remote: Enumerating objects: 294, done.\u001b[K\n",
            "remote: Counting objects: 100% (294/294), done.\u001b[K\n",
            "remote: Compressing objects: 100% (245/245), done.\u001b[K\n",
            "remote: Total 294 (delta 103), reused 160 (delta 34), pack-reused 0\u001b[K\n",
            "Receiving objects: 100% (294/294), 16.89 MiB | 17.24 MiB/s, done.\n",
            "Resolving deltas: 100% (103/103), done.\n"
          ]
        }
      ]
    },
    {
      "cell_type": "markdown",
      "metadata": {
        "id": "3jjujloXD6B7"
      },
      "source": [
        "## Read the csv file /content/sampledata/ESP/Shoes.csv into a pandas data frame - make sure you read the date column in \n",
        "\n",
        "Google for the parameter `parse_dates` to the function `pd.read_csv`\n"
      ]
    },
    {
      "cell_type": "code",
      "metadata": {
        "id": "4fZLYixQS1lD",
        "colab": {
          "base_uri": "https://localhost:8080/",
          "height": 206
        },
        "outputId": "3561347e-f71d-4416-b958-82a3bc32759f"
      },
      "source": [
        "shoes = pd.read_csv('/content/sampledata/ESP/Shoes.csv', parse_dates=['Date'])\n",
        "shoes.head()"
      ],
      "execution_count": 4,
      "outputs": [
        {
          "output_type": "execute_result",
          "data": {
            "text/html": [
              "\n",
              "  <div id=\"df-3717b855-a93c-4ef7-bed8-dcdb0bcde99a\">\n",
              "    <div class=\"colab-df-container\">\n",
              "      <div>\n",
              "<style scoped>\n",
              "    .dataframe tbody tr th:only-of-type {\n",
              "        vertical-align: middle;\n",
              "    }\n",
              "\n",
              "    .dataframe tbody tr th {\n",
              "        vertical-align: top;\n",
              "    }\n",
              "\n",
              "    .dataframe thead th {\n",
              "        text-align: right;\n",
              "    }\n",
              "</style>\n",
              "<table border=\"1\" class=\"dataframe\">\n",
              "  <thead>\n",
              "    <tr style=\"text-align: right;\">\n",
              "      <th></th>\n",
              "      <th>Name</th>\n",
              "      <th>Show</th>\n",
              "      <th>Unit price GBP</th>\n",
              "      <th>Quantity bought</th>\n",
              "      <th>Discount percent</th>\n",
              "      <th>Date</th>\n",
              "    </tr>\n",
              "  </thead>\n",
              "  <tbody>\n",
              "    <tr>\n",
              "      <th>0</th>\n",
              "      <td>Ash</td>\n",
              "      <td>Adidas continental 80</td>\n",
              "      <td>80.0</td>\n",
              "      <td>1</td>\n",
              "      <td>1</td>\n",
              "      <td>2020-01-10</td>\n",
              "    </tr>\n",
              "    <tr>\n",
              "      <th>1</th>\n",
              "      <td>Joe</td>\n",
              "      <td>Adidas Falcon</td>\n",
              "      <td>43.0</td>\n",
              "      <td>1</td>\n",
              "      <td>10</td>\n",
              "      <td>2020-06-10</td>\n",
              "    </tr>\n",
              "    <tr>\n",
              "      <th>2</th>\n",
              "      <td>Tom</td>\n",
              "      <td>Adidas Originals ZX 750</td>\n",
              "      <td>80.0</td>\n",
              "      <td>1</td>\n",
              "      <td>0</td>\n",
              "      <td>2020-11-10</td>\n",
              "    </tr>\n",
              "    <tr>\n",
              "      <th>3</th>\n",
              "      <td>Jack</td>\n",
              "      <td>Adidas Originals ZX Flux</td>\n",
              "      <td>80.0</td>\n",
              "      <td>1</td>\n",
              "      <td>10</td>\n",
              "      <td>2020-10-16</td>\n",
              "    </tr>\n",
              "    <tr>\n",
              "      <th>4</th>\n",
              "      <td>Will</td>\n",
              "      <td>Adidas Yeezy Boost 350 V2 Cloud White (Non-Ref...</td>\n",
              "      <td>300.0</td>\n",
              "      <td>1</td>\n",
              "      <td>0</td>\n",
              "      <td>2020-10-21</td>\n",
              "    </tr>\n",
              "  </tbody>\n",
              "</table>\n",
              "</div>\n",
              "      <button class=\"colab-df-convert\" onclick=\"convertToInteractive('df-3717b855-a93c-4ef7-bed8-dcdb0bcde99a')\"\n",
              "              title=\"Convert this dataframe to an interactive table.\"\n",
              "              style=\"display:none;\">\n",
              "        \n",
              "  <svg xmlns=\"http://www.w3.org/2000/svg\" height=\"24px\"viewBox=\"0 0 24 24\"\n",
              "       width=\"24px\">\n",
              "    <path d=\"M0 0h24v24H0V0z\" fill=\"none\"/>\n",
              "    <path d=\"M18.56 5.44l.94 2.06.94-2.06 2.06-.94-2.06-.94-.94-2.06-.94 2.06-2.06.94zm-11 1L8.5 8.5l.94-2.06 2.06-.94-2.06-.94L8.5 2.5l-.94 2.06-2.06.94zm10 10l.94 2.06.94-2.06 2.06-.94-2.06-.94-.94-2.06-.94 2.06-2.06.94z\"/><path d=\"M17.41 7.96l-1.37-1.37c-.4-.4-.92-.59-1.43-.59-.52 0-1.04.2-1.43.59L10.3 9.45l-7.72 7.72c-.78.78-.78 2.05 0 2.83L4 21.41c.39.39.9.59 1.41.59.51 0 1.02-.2 1.41-.59l7.78-7.78 2.81-2.81c.8-.78.8-2.07 0-2.86zM5.41 20L4 18.59l7.72-7.72 1.47 1.35L5.41 20z\"/>\n",
              "  </svg>\n",
              "      </button>\n",
              "      \n",
              "  <style>\n",
              "    .colab-df-container {\n",
              "      display:flex;\n",
              "      flex-wrap:wrap;\n",
              "      gap: 12px;\n",
              "    }\n",
              "\n",
              "    .colab-df-convert {\n",
              "      background-color: #E8F0FE;\n",
              "      border: none;\n",
              "      border-radius: 50%;\n",
              "      cursor: pointer;\n",
              "      display: none;\n",
              "      fill: #1967D2;\n",
              "      height: 32px;\n",
              "      padding: 0 0 0 0;\n",
              "      width: 32px;\n",
              "    }\n",
              "\n",
              "    .colab-df-convert:hover {\n",
              "      background-color: #E2EBFA;\n",
              "      box-shadow: 0px 1px 2px rgba(60, 64, 67, 0.3), 0px 1px 3px 1px rgba(60, 64, 67, 0.15);\n",
              "      fill: #174EA6;\n",
              "    }\n",
              "\n",
              "    [theme=dark] .colab-df-convert {\n",
              "      background-color: #3B4455;\n",
              "      fill: #D2E3FC;\n",
              "    }\n",
              "\n",
              "    [theme=dark] .colab-df-convert:hover {\n",
              "      background-color: #434B5C;\n",
              "      box-shadow: 0px 1px 3px 1px rgba(0, 0, 0, 0.15);\n",
              "      filter: drop-shadow(0px 1px 2px rgba(0, 0, 0, 0.3));\n",
              "      fill: #FFFFFF;\n",
              "    }\n",
              "  </style>\n",
              "\n",
              "      <script>\n",
              "        const buttonEl =\n",
              "          document.querySelector('#df-3717b855-a93c-4ef7-bed8-dcdb0bcde99a button.colab-df-convert');\n",
              "        buttonEl.style.display =\n",
              "          google.colab.kernel.accessAllowed ? 'block' : 'none';\n",
              "\n",
              "        async function convertToInteractive(key) {\n",
              "          const element = document.querySelector('#df-3717b855-a93c-4ef7-bed8-dcdb0bcde99a');\n",
              "          const dataTable =\n",
              "            await google.colab.kernel.invokeFunction('convertToInteractive',\n",
              "                                                     [key], {});\n",
              "          if (!dataTable) return;\n",
              "\n",
              "          const docLinkHtml = 'Like what you see? Visit the ' +\n",
              "            '<a target=\"_blank\" href=https://colab.research.google.com/notebooks/data_table.ipynb>data table notebook</a>'\n",
              "            + ' to learn more about interactive tables.';\n",
              "          element.innerHTML = '';\n",
              "          dataTable['output_type'] = 'display_data';\n",
              "          await google.colab.output.renderOutput(dataTable, element);\n",
              "          const docLink = document.createElement('div');\n",
              "          docLink.innerHTML = docLinkHtml;\n",
              "          element.appendChild(docLink);\n",
              "        }\n",
              "      </script>\n",
              "    </div>\n",
              "  </div>\n",
              "  "
            ],
            "text/plain": [
              "   Name                                               Show  Unit price GBP  \\\n",
              "0   Ash                              Adidas continental 80            80.0   \n",
              "1   Joe                                      Adidas Falcon            43.0   \n",
              "2   Tom                            Adidas Originals ZX 750            80.0   \n",
              "3  Jack                           Adidas Originals ZX Flux            80.0   \n",
              "4  Will  Adidas Yeezy Boost 350 V2 Cloud White (Non-Ref...           300.0   \n",
              "\n",
              "   Quantity bought  Discount percent       Date  \n",
              "0                1                 1 2020-01-10  \n",
              "1                1                10 2020-06-10  \n",
              "2                1                 0 2020-11-10  \n",
              "3                1                10 2020-10-16  \n",
              "4                1                 0 2020-10-21  "
            ]
          },
          "metadata": {},
          "execution_count": 4
        }
      ]
    },
    {
      "cell_type": "markdown",
      "metadata": {
        "id": "KPNIP4V7FONy"
      },
      "source": [
        "## Create a new data frame column called `Price offered`.\n",
        "\n",
        "Do this by multiplying the `Unit price GBP` column by the `Quantity bought` column."
      ]
    },
    {
      "cell_type": "code",
      "metadata": {
        "id": "5g5fnD79FAAe",
        "colab": {
          "base_uri": "https://localhost:8080/",
          "height": 206
        },
        "outputId": "f00df063-d62f-4265-9126-6a55e58f776f"
      },
      "source": [
        "shoes['Price offered'] = shoes['Unit price GBP'] * shoes['Quantity bought']\n",
        "shoes.head()"
      ],
      "execution_count": 6,
      "outputs": [
        {
          "output_type": "execute_result",
          "data": {
            "text/html": [
              "\n",
              "  <div id=\"df-ad49b343-0a26-457a-b205-b42dde05830d\">\n",
              "    <div class=\"colab-df-container\">\n",
              "      <div>\n",
              "<style scoped>\n",
              "    .dataframe tbody tr th:only-of-type {\n",
              "        vertical-align: middle;\n",
              "    }\n",
              "\n",
              "    .dataframe tbody tr th {\n",
              "        vertical-align: top;\n",
              "    }\n",
              "\n",
              "    .dataframe thead th {\n",
              "        text-align: right;\n",
              "    }\n",
              "</style>\n",
              "<table border=\"1\" class=\"dataframe\">\n",
              "  <thead>\n",
              "    <tr style=\"text-align: right;\">\n",
              "      <th></th>\n",
              "      <th>Name</th>\n",
              "      <th>Show</th>\n",
              "      <th>Unit price GBP</th>\n",
              "      <th>Quantity bought</th>\n",
              "      <th>Discount percent</th>\n",
              "      <th>Date</th>\n",
              "      <th>Price offered</th>\n",
              "    </tr>\n",
              "  </thead>\n",
              "  <tbody>\n",
              "    <tr>\n",
              "      <th>0</th>\n",
              "      <td>Ash</td>\n",
              "      <td>Adidas continental 80</td>\n",
              "      <td>80.0</td>\n",
              "      <td>1</td>\n",
              "      <td>1</td>\n",
              "      <td>2020-01-10</td>\n",
              "      <td>80.0</td>\n",
              "    </tr>\n",
              "    <tr>\n",
              "      <th>1</th>\n",
              "      <td>Joe</td>\n",
              "      <td>Adidas Falcon</td>\n",
              "      <td>43.0</td>\n",
              "      <td>1</td>\n",
              "      <td>10</td>\n",
              "      <td>2020-06-10</td>\n",
              "      <td>43.0</td>\n",
              "    </tr>\n",
              "    <tr>\n",
              "      <th>2</th>\n",
              "      <td>Tom</td>\n",
              "      <td>Adidas Originals ZX 750</td>\n",
              "      <td>80.0</td>\n",
              "      <td>1</td>\n",
              "      <td>0</td>\n",
              "      <td>2020-11-10</td>\n",
              "      <td>80.0</td>\n",
              "    </tr>\n",
              "    <tr>\n",
              "      <th>3</th>\n",
              "      <td>Jack</td>\n",
              "      <td>Adidas Originals ZX Flux</td>\n",
              "      <td>80.0</td>\n",
              "      <td>1</td>\n",
              "      <td>10</td>\n",
              "      <td>2020-10-16</td>\n",
              "      <td>80.0</td>\n",
              "    </tr>\n",
              "    <tr>\n",
              "      <th>4</th>\n",
              "      <td>Will</td>\n",
              "      <td>Adidas Yeezy Boost 350 V2 Cloud White (Non-Ref...</td>\n",
              "      <td>300.0</td>\n",
              "      <td>1</td>\n",
              "      <td>0</td>\n",
              "      <td>2020-10-21</td>\n",
              "      <td>300.0</td>\n",
              "    </tr>\n",
              "  </tbody>\n",
              "</table>\n",
              "</div>\n",
              "      <button class=\"colab-df-convert\" onclick=\"convertToInteractive('df-ad49b343-0a26-457a-b205-b42dde05830d')\"\n",
              "              title=\"Convert this dataframe to an interactive table.\"\n",
              "              style=\"display:none;\">\n",
              "        \n",
              "  <svg xmlns=\"http://www.w3.org/2000/svg\" height=\"24px\"viewBox=\"0 0 24 24\"\n",
              "       width=\"24px\">\n",
              "    <path d=\"M0 0h24v24H0V0z\" fill=\"none\"/>\n",
              "    <path d=\"M18.56 5.44l.94 2.06.94-2.06 2.06-.94-2.06-.94-.94-2.06-.94 2.06-2.06.94zm-11 1L8.5 8.5l.94-2.06 2.06-.94-2.06-.94L8.5 2.5l-.94 2.06-2.06.94zm10 10l.94 2.06.94-2.06 2.06-.94-2.06-.94-.94-2.06-.94 2.06-2.06.94z\"/><path d=\"M17.41 7.96l-1.37-1.37c-.4-.4-.92-.59-1.43-.59-.52 0-1.04.2-1.43.59L10.3 9.45l-7.72 7.72c-.78.78-.78 2.05 0 2.83L4 21.41c.39.39.9.59 1.41.59.51 0 1.02-.2 1.41-.59l7.78-7.78 2.81-2.81c.8-.78.8-2.07 0-2.86zM5.41 20L4 18.59l7.72-7.72 1.47 1.35L5.41 20z\"/>\n",
              "  </svg>\n",
              "      </button>\n",
              "      \n",
              "  <style>\n",
              "    .colab-df-container {\n",
              "      display:flex;\n",
              "      flex-wrap:wrap;\n",
              "      gap: 12px;\n",
              "    }\n",
              "\n",
              "    .colab-df-convert {\n",
              "      background-color: #E8F0FE;\n",
              "      border: none;\n",
              "      border-radius: 50%;\n",
              "      cursor: pointer;\n",
              "      display: none;\n",
              "      fill: #1967D2;\n",
              "      height: 32px;\n",
              "      padding: 0 0 0 0;\n",
              "      width: 32px;\n",
              "    }\n",
              "\n",
              "    .colab-df-convert:hover {\n",
              "      background-color: #E2EBFA;\n",
              "      box-shadow: 0px 1px 2px rgba(60, 64, 67, 0.3), 0px 1px 3px 1px rgba(60, 64, 67, 0.15);\n",
              "      fill: #174EA6;\n",
              "    }\n",
              "\n",
              "    [theme=dark] .colab-df-convert {\n",
              "      background-color: #3B4455;\n",
              "      fill: #D2E3FC;\n",
              "    }\n",
              "\n",
              "    [theme=dark] .colab-df-convert:hover {\n",
              "      background-color: #434B5C;\n",
              "      box-shadow: 0px 1px 3px 1px rgba(0, 0, 0, 0.15);\n",
              "      filter: drop-shadow(0px 1px 2px rgba(0, 0, 0, 0.3));\n",
              "      fill: #FFFFFF;\n",
              "    }\n",
              "  </style>\n",
              "\n",
              "      <script>\n",
              "        const buttonEl =\n",
              "          document.querySelector('#df-ad49b343-0a26-457a-b205-b42dde05830d button.colab-df-convert');\n",
              "        buttonEl.style.display =\n",
              "          google.colab.kernel.accessAllowed ? 'block' : 'none';\n",
              "\n",
              "        async function convertToInteractive(key) {\n",
              "          const element = document.querySelector('#df-ad49b343-0a26-457a-b205-b42dde05830d');\n",
              "          const dataTable =\n",
              "            await google.colab.kernel.invokeFunction('convertToInteractive',\n",
              "                                                     [key], {});\n",
              "          if (!dataTable) return;\n",
              "\n",
              "          const docLinkHtml = 'Like what you see? Visit the ' +\n",
              "            '<a target=\"_blank\" href=https://colab.research.google.com/notebooks/data_table.ipynb>data table notebook</a>'\n",
              "            + ' to learn more about interactive tables.';\n",
              "          element.innerHTML = '';\n",
              "          dataTable['output_type'] = 'display_data';\n",
              "          await google.colab.output.renderOutput(dataTable, element);\n",
              "          const docLink = document.createElement('div');\n",
              "          docLink.innerHTML = docLinkHtml;\n",
              "          element.appendChild(docLink);\n",
              "        }\n",
              "      </script>\n",
              "    </div>\n",
              "  </div>\n",
              "  "
            ],
            "text/plain": [
              "   Name                                               Show  Unit price GBP  \\\n",
              "0   Ash                              Adidas continental 80            80.0   \n",
              "1   Joe                                      Adidas Falcon            43.0   \n",
              "2   Tom                            Adidas Originals ZX 750            80.0   \n",
              "3  Jack                           Adidas Originals ZX Flux            80.0   \n",
              "4  Will  Adidas Yeezy Boost 350 V2 Cloud White (Non-Ref...           300.0   \n",
              "\n",
              "   Quantity bought  Discount percent       Date  Price offered  \n",
              "0                1                 1 2020-01-10           80.0  \n",
              "1                1                10 2020-06-10           43.0  \n",
              "2                1                 0 2020-11-10           80.0  \n",
              "3                1                10 2020-10-16           80.0  \n",
              "4                1                 0 2020-10-21          300.0  "
            ]
          },
          "metadata": {},
          "execution_count": 6
        }
      ]
    },
    {
      "cell_type": "markdown",
      "metadata": {
        "id": "bzmzwTLyGtSA"
      },
      "source": [
        "## Create a new data frame column called `Price paid`\n",
        "\n",
        "Do this by multiplying the `Price offered` column by the `Discount percent` column and multiplying by 100 to get the discount. Then subtract this from `Price offered` to get the final `Price paid`.\n",
        "\n",
        "You can do it in one line but if you prefer you can do it in multiple lines.\n",
        "\n",
        "(percent means out of 100: per --> out of:  cent --> 100)"
      ]
    },
    {
      "cell_type": "code",
      "metadata": {
        "id": "_CsoB0fOFiQ6",
        "colab": {
          "base_uri": "https://localhost:8080/",
          "height": 206
        },
        "outputId": "1263e358-c7c1-4f96-b14c-534cd2b4b4c4"
      },
      "source": [
        "shoes['Price paid'] = shoes['Price offered'] - (shoes['Price offered'] * shoes['Discount percent'] / 100)\n",
        "shoes.head()"
      ],
      "execution_count": 7,
      "outputs": [
        {
          "output_type": "execute_result",
          "data": {
            "text/html": [
              "\n",
              "  <div id=\"df-6c4d69bb-b0de-428f-a7ba-5f4a0ea54c97\">\n",
              "    <div class=\"colab-df-container\">\n",
              "      <div>\n",
              "<style scoped>\n",
              "    .dataframe tbody tr th:only-of-type {\n",
              "        vertical-align: middle;\n",
              "    }\n",
              "\n",
              "    .dataframe tbody tr th {\n",
              "        vertical-align: top;\n",
              "    }\n",
              "\n",
              "    .dataframe thead th {\n",
              "        text-align: right;\n",
              "    }\n",
              "</style>\n",
              "<table border=\"1\" class=\"dataframe\">\n",
              "  <thead>\n",
              "    <tr style=\"text-align: right;\">\n",
              "      <th></th>\n",
              "      <th>Name</th>\n",
              "      <th>Show</th>\n",
              "      <th>Unit price GBP</th>\n",
              "      <th>Quantity bought</th>\n",
              "      <th>Discount percent</th>\n",
              "      <th>Date</th>\n",
              "      <th>Price offered</th>\n",
              "      <th>Price paid</th>\n",
              "    </tr>\n",
              "  </thead>\n",
              "  <tbody>\n",
              "    <tr>\n",
              "      <th>0</th>\n",
              "      <td>Ash</td>\n",
              "      <td>Adidas continental 80</td>\n",
              "      <td>80.0</td>\n",
              "      <td>1</td>\n",
              "      <td>1</td>\n",
              "      <td>2020-01-10</td>\n",
              "      <td>80.0</td>\n",
              "      <td>79.2</td>\n",
              "    </tr>\n",
              "    <tr>\n",
              "      <th>1</th>\n",
              "      <td>Joe</td>\n",
              "      <td>Adidas Falcon</td>\n",
              "      <td>43.0</td>\n",
              "      <td>1</td>\n",
              "      <td>10</td>\n",
              "      <td>2020-06-10</td>\n",
              "      <td>43.0</td>\n",
              "      <td>38.7</td>\n",
              "    </tr>\n",
              "    <tr>\n",
              "      <th>2</th>\n",
              "      <td>Tom</td>\n",
              "      <td>Adidas Originals ZX 750</td>\n",
              "      <td>80.0</td>\n",
              "      <td>1</td>\n",
              "      <td>0</td>\n",
              "      <td>2020-11-10</td>\n",
              "      <td>80.0</td>\n",
              "      <td>80.0</td>\n",
              "    </tr>\n",
              "    <tr>\n",
              "      <th>3</th>\n",
              "      <td>Jack</td>\n",
              "      <td>Adidas Originals ZX Flux</td>\n",
              "      <td>80.0</td>\n",
              "      <td>1</td>\n",
              "      <td>10</td>\n",
              "      <td>2020-10-16</td>\n",
              "      <td>80.0</td>\n",
              "      <td>72.0</td>\n",
              "    </tr>\n",
              "    <tr>\n",
              "      <th>4</th>\n",
              "      <td>Will</td>\n",
              "      <td>Adidas Yeezy Boost 350 V2 Cloud White (Non-Ref...</td>\n",
              "      <td>300.0</td>\n",
              "      <td>1</td>\n",
              "      <td>0</td>\n",
              "      <td>2020-10-21</td>\n",
              "      <td>300.0</td>\n",
              "      <td>300.0</td>\n",
              "    </tr>\n",
              "  </tbody>\n",
              "</table>\n",
              "</div>\n",
              "      <button class=\"colab-df-convert\" onclick=\"convertToInteractive('df-6c4d69bb-b0de-428f-a7ba-5f4a0ea54c97')\"\n",
              "              title=\"Convert this dataframe to an interactive table.\"\n",
              "              style=\"display:none;\">\n",
              "        \n",
              "  <svg xmlns=\"http://www.w3.org/2000/svg\" height=\"24px\"viewBox=\"0 0 24 24\"\n",
              "       width=\"24px\">\n",
              "    <path d=\"M0 0h24v24H0V0z\" fill=\"none\"/>\n",
              "    <path d=\"M18.56 5.44l.94 2.06.94-2.06 2.06-.94-2.06-.94-.94-2.06-.94 2.06-2.06.94zm-11 1L8.5 8.5l.94-2.06 2.06-.94-2.06-.94L8.5 2.5l-.94 2.06-2.06.94zm10 10l.94 2.06.94-2.06 2.06-.94-2.06-.94-.94-2.06-.94 2.06-2.06.94z\"/><path d=\"M17.41 7.96l-1.37-1.37c-.4-.4-.92-.59-1.43-.59-.52 0-1.04.2-1.43.59L10.3 9.45l-7.72 7.72c-.78.78-.78 2.05 0 2.83L4 21.41c.39.39.9.59 1.41.59.51 0 1.02-.2 1.41-.59l7.78-7.78 2.81-2.81c.8-.78.8-2.07 0-2.86zM5.41 20L4 18.59l7.72-7.72 1.47 1.35L5.41 20z\"/>\n",
              "  </svg>\n",
              "      </button>\n",
              "      \n",
              "  <style>\n",
              "    .colab-df-container {\n",
              "      display:flex;\n",
              "      flex-wrap:wrap;\n",
              "      gap: 12px;\n",
              "    }\n",
              "\n",
              "    .colab-df-convert {\n",
              "      background-color: #E8F0FE;\n",
              "      border: none;\n",
              "      border-radius: 50%;\n",
              "      cursor: pointer;\n",
              "      display: none;\n",
              "      fill: #1967D2;\n",
              "      height: 32px;\n",
              "      padding: 0 0 0 0;\n",
              "      width: 32px;\n",
              "    }\n",
              "\n",
              "    .colab-df-convert:hover {\n",
              "      background-color: #E2EBFA;\n",
              "      box-shadow: 0px 1px 2px rgba(60, 64, 67, 0.3), 0px 1px 3px 1px rgba(60, 64, 67, 0.15);\n",
              "      fill: #174EA6;\n",
              "    }\n",
              "\n",
              "    [theme=dark] .colab-df-convert {\n",
              "      background-color: #3B4455;\n",
              "      fill: #D2E3FC;\n",
              "    }\n",
              "\n",
              "    [theme=dark] .colab-df-convert:hover {\n",
              "      background-color: #434B5C;\n",
              "      box-shadow: 0px 1px 3px 1px rgba(0, 0, 0, 0.15);\n",
              "      filter: drop-shadow(0px 1px 2px rgba(0, 0, 0, 0.3));\n",
              "      fill: #FFFFFF;\n",
              "    }\n",
              "  </style>\n",
              "\n",
              "      <script>\n",
              "        const buttonEl =\n",
              "          document.querySelector('#df-6c4d69bb-b0de-428f-a7ba-5f4a0ea54c97 button.colab-df-convert');\n",
              "        buttonEl.style.display =\n",
              "          google.colab.kernel.accessAllowed ? 'block' : 'none';\n",
              "\n",
              "        async function convertToInteractive(key) {\n",
              "          const element = document.querySelector('#df-6c4d69bb-b0de-428f-a7ba-5f4a0ea54c97');\n",
              "          const dataTable =\n",
              "            await google.colab.kernel.invokeFunction('convertToInteractive',\n",
              "                                                     [key], {});\n",
              "          if (!dataTable) return;\n",
              "\n",
              "          const docLinkHtml = 'Like what you see? Visit the ' +\n",
              "            '<a target=\"_blank\" href=https://colab.research.google.com/notebooks/data_table.ipynb>data table notebook</a>'\n",
              "            + ' to learn more about interactive tables.';\n",
              "          element.innerHTML = '';\n",
              "          dataTable['output_type'] = 'display_data';\n",
              "          await google.colab.output.renderOutput(dataTable, element);\n",
              "          const docLink = document.createElement('div');\n",
              "          docLink.innerHTML = docLinkHtml;\n",
              "          element.appendChild(docLink);\n",
              "        }\n",
              "      </script>\n",
              "    </div>\n",
              "  </div>\n",
              "  "
            ],
            "text/plain": [
              "   Name                                               Show  Unit price GBP  \\\n",
              "0   Ash                              Adidas continental 80            80.0   \n",
              "1   Joe                                      Adidas Falcon            43.0   \n",
              "2   Tom                            Adidas Originals ZX 750            80.0   \n",
              "3  Jack                           Adidas Originals ZX Flux            80.0   \n",
              "4  Will  Adidas Yeezy Boost 350 V2 Cloud White (Non-Ref...           300.0   \n",
              "\n",
              "   Quantity bought  Discount percent       Date  Price offered  Price paid  \n",
              "0                1                 1 2020-01-10           80.0        79.2  \n",
              "1                1                10 2020-06-10           43.0        38.7  \n",
              "2                1                 0 2020-11-10           80.0        80.0  \n",
              "3                1                10 2020-10-16           80.0        72.0  \n",
              "4                1                 0 2020-10-21          300.0       300.0  "
            ]
          },
          "metadata": {},
          "execution_count": 7
        }
      ]
    },
    {
      "cell_type": "markdown",
      "metadata": {
        "id": "QgHxd6-CXACV"
      },
      "source": [
        "## Convert dates to be Python date time objects.\n",
        "\n",
        "We are going to use the two variables below as dates to query the data but they are strings and need to be converted to date time objects. \n",
        "\n",
        "Google `pandas to_datetime`. Make sure you also choose the `dayfirst` parameter."
      ]
    },
    {
      "cell_type": "code",
      "metadata": {
        "id": "-stqjYV3INts"
      },
      "source": [
        "startdate_string = '01/01/2022'\n",
        "enddate_string = '31/12/2022'\n",
        "startdate = pd.to_datetime(startdate_string, dayfirst=True)\n",
        "enddate = pd.to_datetime(enddate_string, dayfirst=True)"
      ],
      "execution_count": 8,
      "outputs": []
    },
    {
      "cell_type": "markdown",
      "metadata": {
        "id": "FMwMS7uvb4VQ"
      },
      "source": [
        "## Choose a name to search for\n",
        "\n",
        "This is just a string - no need to do anything to it."
      ]
    },
    {
      "cell_type": "code",
      "metadata": {
        "id": "4l8jDrBpa4_5"
      },
      "source": [
        "name = 'Joe'"
      ],
      "execution_count": null,
      "outputs": []
    },
    {
      "cell_type": "markdown",
      "metadata": {
        "id": "knVi7d5hYdBr"
      },
      "source": [
        "## Search in the data frame for data between two dates and for the named person\n",
        "\n",
        "This can be done in one line of code but you can do it in more if it makes it easier.\n",
        "\n",
        "Hints: \n",
        "\n",
        "*   Google for `pandas loc`\n",
        "*   Use `<=` and `>=` and `==` for less than or equal, greater than or equal and equals\n",
        "*   Use `&` to logically AND things together\n",
        "*   Google `pandas .copy()` - this copies the answer to a new variable\n",
        "\n"
      ]
    },
    {
      "cell_type": "code",
      "metadata": {
        "id": "HiOgkYnKGr_3"
      },
      "source": [
        "oneyear_shoes = shoes.loc[(shoes['Date'] >= startdate) & (shoes['Date'] <= enddate) & (shoes['Name'] == name)].copy()"
      ],
      "execution_count": null,
      "outputs": []
    },
    {
      "cell_type": "markdown",
      "metadata": {
        "id": "ANXA39QBYp_4"
      },
      "source": [
        "## Find the total price paid for the named person between the dates\n",
        "\n",
        "Use `sum()` to add entire columns."
      ]
    },
    {
      "cell_type": "code",
      "metadata": {
        "id": "it4MrAd_SUyS",
        "colab": {
          "base_uri": "https://localhost:8080/"
        },
        "outputId": "ca4e900d-3393-4d82-d78d-385285ea8fa9"
      },
      "source": [
        "total = oneyear_shoes['Price paid'].sum()\n",
        "total"
      ],
      "execution_count": null,
      "outputs": [
        {
          "output_type": "execute_result",
          "data": {
            "text/plain": [
              "463.5"
            ]
          },
          "metadata": {
            "tags": []
          },
          "execution_count": 8
        }
      ]
    },
    {
      "cell_type": "markdown",
      "metadata": {
        "id": "_DHoAc_uf2HF"
      },
      "source": [
        "## Sort the data by `Date`\n",
        "\n",
        "Google `pandas sort_values`. Also use the `inplace` parameter."
      ]
    },
    {
      "cell_type": "code",
      "metadata": {
        "id": "l3qgjsvbc-EV"
      },
      "source": [
        "oneyear_shoes.sort_values(by='Date', inplace=True)"
      ],
      "execution_count": null,
      "outputs": []
    },
    {
      "cell_type": "markdown",
      "metadata": {
        "id": "L4270SqjgJr9"
      },
      "source": [
        "## Plot the price paid by date\n",
        "\n",
        "Hints\n",
        "\n",
        "*   Try `plt.scatter`\n",
        "*   Try `plt.bar`\n",
        "*   `plt.xticks` with a rotation changes the angle of the axes\n",
        "*   `plt.title` makes a title\n",
        "*   `plt.show` shows the plot\n",
        "\n",
        "\n",
        "\n",
        "\n",
        "\n"
      ]
    },
    {
      "cell_type": "code",
      "metadata": {
        "id": "5jLrXxKpY7F0",
        "colab": {
          "base_uri": "https://localhost:8080/",
          "height": 313
        },
        "outputId": "ea697b67-de7c-4f4e-a2c3-7147148d2e1e"
      },
      "source": [
        "plt.scatter(oneyear_shoes['Date'], oneyear_shoes['Price paid'])\n",
        "plt.bar(oneyear_shoes['Date'], oneyear_shoes['Price paid'])\n",
        "plt.xticks(rotation=90) \n",
        "plt.title('Transactions by ' + name + ' between ' + startdate_string + ' and ' + enddate_string + '. ' + str(total) + ' in total')\n",
        "plt.show()"
      ],
      "execution_count": null,
      "outputs": [
        {
          "output_type": "display_data",
          "data": {
            "image/png": "[encoded data removed]",
            "text/plain": [
              "<Figure size 432x288 with 1 Axes>"
            ]
          },
          "metadata": {
            "tags": [],
            "needs_background": "light"
          }
        }
      ]
    },
    {
      "cell_type": "markdown",
      "metadata": {
        "id": "q7dL30YCaGYj"
      },
      "source": [
        "## Plot all names for all time using different colours (advanced)\n",
        "\n",
        "Hints\n",
        "\n",
        "*   Google `plt.subplots`\n",
        "*   Google `pandas groupby` to group data for different names together\n",
        "*   Google iterating over a group to work out how to plot each group one by one\n",
        "\n",
        "\n",
        "\n"
      ]
    },
    {
      "cell_type": "code",
      "metadata": {
        "id": "ngWmfVq4Zqil",
        "colab": {
          "base_uri": "https://localhost:8080/",
          "height": 297
        },
        "outputId": "398073af-82c0-458a-8e99-ec7c19dbeb88"
      },
      "source": [
        "fig, ax = plt.subplots(figsize=(10,4))\n",
        "for key, grp in shoes.groupby(['Name']):\n",
        "    ax.scatter(grp['Date'], grp['Price paid'], label=key)\n",
        "\n",
        "ax.legend()\n",
        "plt.xticks(rotation=90)\n",
        "plt.show()"
      ],
      "execution_count": null,
      "outputs": [
        {
          "output_type": "display_data",
          "data": {
            "image/png": "[encoded data removed]",
            "text/plain": [
              "<Figure size 720x288 with 1 Axes>"
            ]
          },
          "metadata": {
            "tags": [],
            "needs_background": "light"
          }
        }
      ]
    }
  ]
}