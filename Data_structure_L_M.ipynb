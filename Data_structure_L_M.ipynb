{
  "nbformat": 4,
  "nbformat_minor": 0,
  "metadata": {
    "colab": {
      "name": "Data structure L.M",
      "provenance": [],
      "authorship_tag": "ABX9TyPwPDP5EvJHLajhOG023dz0",
      "include_colab_link": true
    },
    "kernelspec": {
      "name": "python3",
      "display_name": "Python 3"
    },
    "language_info": {
      "name": "python"
    }
  },
  "cells": [
    {
      "cell_type": "markdown",
      "metadata": {
        "id": "view-in-github",
        "colab_type": "text"
      },
      "source": [
        "<a href=\"https://colab.research.google.com/github/KamsenaM/Snippets/blob/main/Data_structure_L_M.ipynb\" target=\"_parent\"><img src=\"https://colab.research.google.com/assets/colab-badge.svg\" alt=\"Open In Colab\"/></a>"
      ]
    },
    {
      "cell_type": "code",
      "execution_count": 17,
      "metadata": {
        "colab": {
          "base_uri": "https://localhost:8080/"
        },
        "id": "xBf4M163QDd9",
        "outputId": "ec6cfb65-c564-4526-cde3-c4e0c1dabb6d"
      },
      "outputs": [
        {
          "output_type": "stream",
          "name": "stdout",
          "text": [
            "40\n",
            "The total is: 46\n"
          ]
        }
      ],
      "source": [
        "\n",
        "\n",
        "def wallpaper(colour,total):\n",
        "   \n",
        "  for i in colour:\n",
        "    total = total + colour[i]\n",
        "\n",
        "  return total\n",
        "\n",
        "dict = {'white': 6,\n",
        "        'red': 8,\n",
        "        'lime': 2,\n",
        "        'blue': 11,\n",
        "        'pink': 1,\n",
        "        'brown': 3,\n",
        "        'scarlet': 9,\n",
        "        'black': 0,\n",
        "        'gray': 1,\n",
        "        'orange': 5,\n",
        "            }\n",
        "total = 0\n",
        "x =  wallpaper(colour,total)  \n",
        "print(x)     \n",
        "print(\"The total is:\",wallpaper(dict,total))"
      ]
    }
  ]
}