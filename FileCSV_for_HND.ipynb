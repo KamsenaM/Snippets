{
  "nbformat": 4,
  "nbformat_minor": 0,
  "metadata": {
    "colab": {
      "name": "FileCSV_for_HND.ipynb",
      "provenance": [],
      "include_colab_link": true
    },
    "kernelspec": {
      "name": "python3",
      "display_name": "Python 3"
    },
    "language_info": {
      "name": "python"
    }
  },
  "cells": [
    {
      "cell_type": "markdown",
      "metadata": {
        "id": "view-in-github",
        "colab_type": "text"
      },
      "source": [
        "<a href=\"https://colab.research.google.com/github/KamsenaM/Snippets/blob/main/FileCSV_for_HND.ipynb\" target=\"_parent\"><img src=\"https://colab.research.google.com/assets/colab-badge.svg\" alt=\"Open In Colab\"/></a>"
      ]
    },
    {
      "cell_type": "code",
      "execution_count": null,
      "metadata": {
        "colab": {
          "base_uri": "https://localhost:8080/"
        },
        "id": "t15zwGZeENaj",
        "outputId": "d05c6bd5-b44c-4e0b-91bf-258d22b8301a"
      },
      "outputs": [
        {
          "output_type": "stream",
          "name": "stdout",
          "text": [
            "['treadmill', '11/11/2021', 'am', '500\\n']\n",
            "treadmill\n",
            "11/11/2021\n",
            "am\n",
            "500\n",
            "\n",
            "500\n",
            "['bike', '12/11/2021', 'pm', '250\\n']\n",
            "bike\n",
            "12/11/2021\n",
            "pm\n",
            "250\n",
            "\n",
            "250\n",
            "['rower', '14/02/2021', 'am', '150\\n']\n",
            "rower\n",
            "14/02/2021\n",
            "am\n",
            "150\n",
            "\n",
            "150\n",
            "['treadmill', '01/12/2021', 'pm', '470\\n']\n",
            "treadmill\n",
            "01/12/2021\n",
            "pm\n",
            "470\n",
            "\n",
            "470\n",
            "['treadmill', '14/02/2021', 'am', '300\\n']\n",
            "treadmill\n",
            "14/02/2021\n",
            "am\n",
            "300\n",
            "\n",
            "300\n"
          ]
        }
      ],
      "source": [
        "##########################################################################################\n",
        "# reading csv file lines in a file        in HND                                                #\n",
        "##########################################################################################\n",
        "def ReadCSV():\n",
        "    # procedure to readfile \n",
        "    for line in open(\"demo.csv\",\"r\").readlines(): # Read the lines\n",
        "        pgm_info = line.split(',') # Split on the comma, and store the results in a list of two strings\n",
        "        # print what we are looking at\n",
        "        print(pgm_info)   \n",
        "        print(pgm_info[0])\n",
        "       #\n",
        "        print(pgm_info[1])\n",
        "        print(pgm_info[2])\n",
        "        print(pgm_info[3])\n",
        "        print(pgm_info[3].strip('\\n'))\n",
        "        #\n",
        "        #now add to list box\n",
        "#\n",
        "# main program here calls the function checkUser() with parameters\n",
        "#\n",
        "#\n",
        "#\n",
        "ReadCSV()"
      ]
    }
  ]
}