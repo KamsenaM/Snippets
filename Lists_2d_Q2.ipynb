{
  "nbformat": 4,
  "nbformat_minor": 0,
  "metadata": {
    "colab": {
      "name": "Lists 2d Q2.ipynb",
      "provenance": [],
      "collapsed_sections": [],
      "include_colab_link": true
    },
    "kernelspec": {
      "name": "python3",
      "display_name": "Python 3"
    },
    "language_info": {
      "name": "python"
    }
  },
  "cells": [
    {
      "cell_type": "markdown",
      "metadata": {
        "id": "view-in-github",
        "colab_type": "text"
      },
      "source": [
        "<a href=\"https://colab.research.google.com/github/KamsenaM/Snippets/blob/main/Lists_2d_Q2.ipynb\" target=\"_parent\"><img src=\"https://colab.research.google.com/assets/colab-badge.svg\" alt=\"Open In Colab\"/></a>"
      ]
    },
    {
      "cell_type": "code",
      "metadata": {
        "colab": {
          "base_uri": "https://localhost:8080/"
        },
        "id": "xdHTP2kGzv3u",
        "outputId": "91e9cbef-27b1-4fc7-cba6-8169b193f98f"
      },
      "source": [
        "rows, cols = (4, 5) \n",
        "#  \n",
        "#\n",
        "# building array using list within a list\n",
        "#\n",
        "array = [[0 for i in range(cols)] for j in range(rows)] \n",
        "#\n",
        "#  now print the table/grid which is a 2 dimensional array\n",
        "array[0][0] = ' '\n",
        "array[0][1] = 'Jones'\n",
        "array[0][2] = 'Helen'\n",
        "array[0][3] = 2001\n",
        "array[0][4] = '06'\n",
        "#\n",
        "array[1][0] = ' '\n",
        "array[1][1] = 'Rees'\n",
        "array[1][2] = 'Ceryl'\n",
        "array[1][3] = 1990\n",
        "array[1][4] = '10'\n",
        "#\n",
        "array[2][0] = ' '\n",
        "array[2][1] = 'Phillips'\n",
        "array[2][2] = 'Ann'\n",
        "array[2][3] = 2002\n",
        "array[2][4] = '01'\n",
        "#\n",
        "#\n",
        "array[3][0] = ' '\n",
        "array[3][1] = 'Leech'\n",
        "array[3][2] = 'Fred'\n",
        "array[3][3] = 2005\n",
        "array[3][4] = '05'\n",
        "#\n",
        "# prints array\n",
        "for row in array: \n",
        "    print(row ) \n",
        "#\n",
        "#\n",
        "# \n",
        "# \n",
        "for i in range(0,rows): #read each row in table/array \n",
        "  Sur = array[i][1]\n",
        "  print(Sur)\n",
        "  S_part = Sur[:2]\n",
        "  print('first part = ' + S_part)\n",
        "  Foren = array[i][2]\n",
        "  print(Foren)\n",
        "  F_part = Foren[:1]\n",
        "  #\n",
        "  #extend code to get the last 2 digits of dob and month\n",
        "  #now populate userid\n",
        "  array[i][0] = S_part + F_part\n",
        "#\n",
        "#\n",
        "# reprint array\n",
        "# prints array\n",
        "for row in array: \n",
        "    print(row )  "
      ],
      "execution_count": null,
      "outputs": [
        {
          "output_type": "stream",
          "name": "stdout",
          "text": [
            "[' ', 'Jones', 'Helen', 2001, '06']\n",
            "[' ', 'Rees', 'Ceryl', 1990, '10']\n",
            "[' ', 'Phillips', 'Ann', 2002, '01']\n",
            "[' ', 'Leech', 'Fred', 2005, '05']\n",
            "Jones\n",
            "first part = Jo\n",
            "Helen\n",
            "Rees\n",
            "first part = Re\n",
            "Ceryl\n",
            "Phillips\n",
            "first part = Ph\n",
            "Ann\n",
            "Leech\n",
            "first part = Le\n",
            "Fred\n",
            "['JoH', 'Jones', 'Helen', 2001, '06']\n",
            "['ReC', 'Rees', 'Ceryl', 1990, '10']\n",
            "['PhA', 'Phillips', 'Ann', 2002, '01']\n",
            "['LeF', 'Leech', 'Fred', 2005, '05']\n"
          ]
        }
      ]
    }
  ]
}